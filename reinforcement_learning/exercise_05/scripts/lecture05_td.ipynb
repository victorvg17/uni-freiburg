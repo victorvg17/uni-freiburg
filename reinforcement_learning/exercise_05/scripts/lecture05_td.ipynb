{
 "cells": [
  {
   "cell_type": "code",
   "execution_count": 6,
   "metadata": {},
   "outputs": [],
   "source": [
    "import numpy as np\n",
    "from collections import namedtuple\n",
    "import torch\n",
    "import torch.nn as nn"
   ]
  },
  {
   "cell_type": "code",
   "execution_count": 2,
   "metadata": {},
   "outputs": [],
   "source": [
    "Person = namedtuple('Person', 'name age gender')"
   ]
  },
  {
   "cell_type": "code",
   "execution_count": 7,
   "metadata": {},
   "outputs": [
    {
     "name": "stdout",
     "output_type": "stream",
     "text": [
      "type of person: <class 'type'>\n",
      "name: Bob, age: 30, gender: male\n",
      "name: Lau, age: 20, gender: female\n"
     ]
    }
   ],
   "source": [
    "print(f'type of person: {type(Person)}')\n",
    "bob = Person(name = 'Bob', age = 30, gender= 'male')\n",
    "lau = Person(name = 'Lau', age = 20, gender= 'female')\n",
    "print(f'name: {bob.name}, age: {bob.age}, gender: {bob.gender}')\n",
    "print(f'name: {lau.name}, age: {lau.age}, gender: {lau.gender}')"
   ]
  },
  {
   "cell_type": "code",
   "execution_count": 20,
   "metadata": {},
   "outputs": [
    {
     "data": {
      "text/plain": [
       "array([ True,  True,  True,  True,  True])"
      ]
     },
     "execution_count": 20,
     "metadata": {},
     "output_type": "execute_result"
    }
   ],
   "source": [
    "fu1 = np.arange(1,11, step=1).reshape(2, 5)\n",
    "cfu = np.max(fu1[1,:])\n",
    "cfu\n",
    "fu1[0,:] == fu1[0]"
   ]
  },
  {
   "cell_type": "code",
   "execution_count": 17,
   "metadata": {},
   "outputs": [
    {
     "data": {
      "text/plain": [
       "array([0, 1, 2, 3])"
      ]
     },
     "execution_count": 17,
     "metadata": {},
     "output_type": "execute_result"
    }
   ],
   "source": [
    "fu2 = np.arange(4)\n",
    "fu2"
   ]
  },
  {
   "cell_type": "code",
   "execution_count": 7,
   "metadata": {},
   "outputs": [
    {
     "name": "stdout",
     "output_type": "stream",
     "text": [
      "fu:tensor([[0.0356, 0.5410, 0.4234],\n",
      "        [0.3413, 0.1447, 0.5140]])\n"
     ]
    }
   ],
   "source": [
    "m = nn.Softmax(dim=1)\n",
    "fu = torch.randn(2, 3)\n",
    "fu = m(fu)\n",
    "print(f'fu:{fu}')"
   ]
  },
  {
   "cell_type": "code",
   "execution_count": 3,
   "metadata": {},
   "outputs": [
    {
     "name": "stdout",
     "output_type": "stream",
     "text": [
      "i:0, j:0\n",
      "i:0, j:1\n",
      "i:1, j:0\n",
      "i:1, j:1\n",
      "i:2, j:0\n",
      "i:2, j:1\n",
      "i:3, j:0\n",
      "i:3, j:1\n",
      "i:4, j:0\n",
      "i:4, j:1\n"
     ]
    }
   ],
   "source": [
    "for i in range(5):\n",
    "    for j in range(4):\n",
    "        if (j == 2):\n",
    "            break\n",
    "        print(f'i:{i}, j:{j}')"
   ]
  },
  {
   "cell_type": "code",
   "execution_count": 13,
   "metadata": {},
   "outputs": [],
   "source": [
    "from torch.autograd import Variable\n",
    "from torch import FloatTensor\n",
    "import torch"
   ]
  },
  {
   "cell_type": "code",
   "execution_count": 14,
   "metadata": {},
   "outputs": [
    {
     "data": {
      "text/plain": [
       "<function Tensor.size>"
      ]
     },
     "execution_count": 14,
     "metadata": {},
     "output_type": "execute_result"
    }
   ],
   "source": [
    "reward = 5\n",
    "# fu1 = Variable(reward)\n",
    "# fu1.size\n",
    "a = Variable(FloatTensor([4]))\n",
    "fu = Variable(torch.randn(3, 4))\n",
    "fu.size"
   ]
  },
  {
   "cell_type": "code",
   "execution_count": null,
   "metadata": {},
   "outputs": [],
   "source": []
  }
 ],
 "metadata": {
  "kernelspec": {
   "display_name": "Python 3",
   "language": "python",
   "name": "python3"
  },
  "language_info": {
   "codemirror_mode": {
    "name": "ipython",
    "version": 3
   },
   "file_extension": ".py",
   "mimetype": "text/x-python",
   "name": "python",
   "nbconvert_exporter": "python",
   "pygments_lexer": "ipython3",
   "version": "3.7.3"
  }
 },
 "nbformat": 4,
 "nbformat_minor": 2
}
